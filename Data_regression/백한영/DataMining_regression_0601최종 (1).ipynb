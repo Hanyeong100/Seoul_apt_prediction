{
  "nbformat": 4,
  "nbformat_minor": 0,
  "metadata": {
    "colab": {
      "provenance": []
    },
    "kernelspec": {
      "name": "python3",
      "display_name": "Python 3"
    },
    "language_info": {
      "name": "python"
    }
  },
  "cells": [
    {
      "cell_type": "code",
      "source": [
        "import pandas as pd\n",
        "df = pd.read_csv('/content/drive/MyDrive/20230531_final_data.csv의 사본')"
      ],
      "metadata": {
        "id": "T0Frx5yOKkNV"
      },
      "execution_count": 1,
      "outputs": []
    },
    {
      "cell_type": "code",
      "source": [
        "df.head()"
      ],
      "metadata": {
        "colab": {
          "base_uri": "https://localhost:8080/",
          "height": 421
        },
        "id": "n_f2JJfNLm4k",
        "outputId": "794f1f2d-3ee9-48cd-8806-db9ffe399b0c"
      },
      "execution_count": 2,
      "outputs": [
        {
          "output_type": "execute_result",
          "data": {
            "text/plain": [
              "   Unnamed: 0  건물면적(㎡)   층         위도          경도  세대수  최고층  용적률  건폐율  \\\n",
              "0           0    84.58  14  37.474905  127.031343  794   15  198   16   \n",
              "1           1    84.88  15  37.474905  127.031343  794   15  198   16   \n",
              "2           2    73.15  12  37.474905  127.031343  794   15  198   16   \n",
              "3           3    84.58   9  37.474905  127.031343  794   15  198   16   \n",
              "4           4    84.88   9  37.474905  127.031343  794   15  198   16   \n",
              "\n",
              "   min_dist_IC  ...  interest_rate  한국(KOSPI)  no_subway  yes_subway  \\\n",
              "0  1079.132991  ...            2.5     2051.0          0           0   \n",
              "1  1079.132991  ...            2.5     2051.0          0           0   \n",
              "2  1079.132991  ...            2.5     2051.0          0           0   \n",
              "3  1079.132991  ...            2.5     2051.0          0           0   \n",
              "4  1079.132991  ...            2.5     2051.0          0           0   \n",
              "\n",
              "   hyper_yes_subway  난방_HT001  현관구조_계단식  Major_Builder  건축년도_elapsed_days  \\\n",
              "0                 0         0         1              0               7304   \n",
              "1                 0         0         1              0               7293   \n",
              "2                 0         0         1              0               7290   \n",
              "3                 0         0         1              0               7287   \n",
              "4                 0         0         1              0               7261   \n",
              "\n",
              "   물건금액(만원)  \n",
              "0     55000  \n",
              "1     61000  \n",
              "2     52500  \n",
              "3     62000  \n",
              "4     63500  \n",
              "\n",
              "[5 rows x 36 columns]"
            ],
            "text/html": [
              "\n",
              "  <div id=\"df-2c3552fb-d546-4f9f-b812-438f1c65b6f9\">\n",
              "    <div class=\"colab-df-container\">\n",
              "      <div>\n",
              "<style scoped>\n",
              "    .dataframe tbody tr th:only-of-type {\n",
              "        vertical-align: middle;\n",
              "    }\n",
              "\n",
              "    .dataframe tbody tr th {\n",
              "        vertical-align: top;\n",
              "    }\n",
              "\n",
              "    .dataframe thead th {\n",
              "        text-align: right;\n",
              "    }\n",
              "</style>\n",
              "<table border=\"1\" class=\"dataframe\">\n",
              "  <thead>\n",
              "    <tr style=\"text-align: right;\">\n",
              "      <th></th>\n",
              "      <th>Unnamed: 0</th>\n",
              "      <th>건물면적(㎡)</th>\n",
              "      <th>층</th>\n",
              "      <th>위도</th>\n",
              "      <th>경도</th>\n",
              "      <th>세대수</th>\n",
              "      <th>최고층</th>\n",
              "      <th>용적률</th>\n",
              "      <th>건폐율</th>\n",
              "      <th>min_dist_IC</th>\n",
              "      <th>...</th>\n",
              "      <th>interest_rate</th>\n",
              "      <th>한국(KOSPI)</th>\n",
              "      <th>no_subway</th>\n",
              "      <th>yes_subway</th>\n",
              "      <th>hyper_yes_subway</th>\n",
              "      <th>난방_HT001</th>\n",
              "      <th>현관구조_계단식</th>\n",
              "      <th>Major_Builder</th>\n",
              "      <th>건축년도_elapsed_days</th>\n",
              "      <th>물건금액(만원)</th>\n",
              "    </tr>\n",
              "  </thead>\n",
              "  <tbody>\n",
              "    <tr>\n",
              "      <th>0</th>\n",
              "      <td>0</td>\n",
              "      <td>84.58</td>\n",
              "      <td>14</td>\n",
              "      <td>37.474905</td>\n",
              "      <td>127.031343</td>\n",
              "      <td>794</td>\n",
              "      <td>15</td>\n",
              "      <td>198</td>\n",
              "      <td>16</td>\n",
              "      <td>1079.132991</td>\n",
              "      <td>...</td>\n",
              "      <td>2.5</td>\n",
              "      <td>2051.0</td>\n",
              "      <td>0</td>\n",
              "      <td>0</td>\n",
              "      <td>0</td>\n",
              "      <td>0</td>\n",
              "      <td>1</td>\n",
              "      <td>0</td>\n",
              "      <td>7304</td>\n",
              "      <td>55000</td>\n",
              "    </tr>\n",
              "    <tr>\n",
              "      <th>1</th>\n",
              "      <td>1</td>\n",
              "      <td>84.88</td>\n",
              "      <td>15</td>\n",
              "      <td>37.474905</td>\n",
              "      <td>127.031343</td>\n",
              "      <td>794</td>\n",
              "      <td>15</td>\n",
              "      <td>198</td>\n",
              "      <td>16</td>\n",
              "      <td>1079.132991</td>\n",
              "      <td>...</td>\n",
              "      <td>2.5</td>\n",
              "      <td>2051.0</td>\n",
              "      <td>0</td>\n",
              "      <td>0</td>\n",
              "      <td>0</td>\n",
              "      <td>0</td>\n",
              "      <td>1</td>\n",
              "      <td>0</td>\n",
              "      <td>7293</td>\n",
              "      <td>61000</td>\n",
              "    </tr>\n",
              "    <tr>\n",
              "      <th>2</th>\n",
              "      <td>2</td>\n",
              "      <td>73.15</td>\n",
              "      <td>12</td>\n",
              "      <td>37.474905</td>\n",
              "      <td>127.031343</td>\n",
              "      <td>794</td>\n",
              "      <td>15</td>\n",
              "      <td>198</td>\n",
              "      <td>16</td>\n",
              "      <td>1079.132991</td>\n",
              "      <td>...</td>\n",
              "      <td>2.5</td>\n",
              "      <td>2051.0</td>\n",
              "      <td>0</td>\n",
              "      <td>0</td>\n",
              "      <td>0</td>\n",
              "      <td>0</td>\n",
              "      <td>1</td>\n",
              "      <td>0</td>\n",
              "      <td>7290</td>\n",
              "      <td>52500</td>\n",
              "    </tr>\n",
              "    <tr>\n",
              "      <th>3</th>\n",
              "      <td>3</td>\n",
              "      <td>84.58</td>\n",
              "      <td>9</td>\n",
              "      <td>37.474905</td>\n",
              "      <td>127.031343</td>\n",
              "      <td>794</td>\n",
              "      <td>15</td>\n",
              "      <td>198</td>\n",
              "      <td>16</td>\n",
              "      <td>1079.132991</td>\n",
              "      <td>...</td>\n",
              "      <td>2.5</td>\n",
              "      <td>2051.0</td>\n",
              "      <td>0</td>\n",
              "      <td>0</td>\n",
              "      <td>0</td>\n",
              "      <td>0</td>\n",
              "      <td>1</td>\n",
              "      <td>0</td>\n",
              "      <td>7287</td>\n",
              "      <td>62000</td>\n",
              "    </tr>\n",
              "    <tr>\n",
              "      <th>4</th>\n",
              "      <td>4</td>\n",
              "      <td>84.88</td>\n",
              "      <td>9</td>\n",
              "      <td>37.474905</td>\n",
              "      <td>127.031343</td>\n",
              "      <td>794</td>\n",
              "      <td>15</td>\n",
              "      <td>198</td>\n",
              "      <td>16</td>\n",
              "      <td>1079.132991</td>\n",
              "      <td>...</td>\n",
              "      <td>2.5</td>\n",
              "      <td>2051.0</td>\n",
              "      <td>0</td>\n",
              "      <td>0</td>\n",
              "      <td>0</td>\n",
              "      <td>0</td>\n",
              "      <td>1</td>\n",
              "      <td>0</td>\n",
              "      <td>7261</td>\n",
              "      <td>63500</td>\n",
              "    </tr>\n",
              "  </tbody>\n",
              "</table>\n",
              "<p>5 rows × 36 columns</p>\n",
              "</div>\n",
              "      <button class=\"colab-df-convert\" onclick=\"convertToInteractive('df-2c3552fb-d546-4f9f-b812-438f1c65b6f9')\"\n",
              "              title=\"Convert this dataframe to an interactive table.\"\n",
              "              style=\"display:none;\">\n",
              "        \n",
              "  <svg xmlns=\"http://www.w3.org/2000/svg\" height=\"24px\"viewBox=\"0 0 24 24\"\n",
              "       width=\"24px\">\n",
              "    <path d=\"M0 0h24v24H0V0z\" fill=\"none\"/>\n",
              "    <path d=\"M18.56 5.44l.94 2.06.94-2.06 2.06-.94-2.06-.94-.94-2.06-.94 2.06-2.06.94zm-11 1L8.5 8.5l.94-2.06 2.06-.94-2.06-.94L8.5 2.5l-.94 2.06-2.06.94zm10 10l.94 2.06.94-2.06 2.06-.94-2.06-.94-.94-2.06-.94 2.06-2.06.94z\"/><path d=\"M17.41 7.96l-1.37-1.37c-.4-.4-.92-.59-1.43-.59-.52 0-1.04.2-1.43.59L10.3 9.45l-7.72 7.72c-.78.78-.78 2.05 0 2.83L4 21.41c.39.39.9.59 1.41.59.51 0 1.02-.2 1.41-.59l7.78-7.78 2.81-2.81c.8-.78.8-2.07 0-2.86zM5.41 20L4 18.59l7.72-7.72 1.47 1.35L5.41 20z\"/>\n",
              "  </svg>\n",
              "      </button>\n",
              "      \n",
              "  <style>\n",
              "    .colab-df-container {\n",
              "      display:flex;\n",
              "      flex-wrap:wrap;\n",
              "      gap: 12px;\n",
              "    }\n",
              "\n",
              "    .colab-df-convert {\n",
              "      background-color: #E8F0FE;\n",
              "      border: none;\n",
              "      border-radius: 50%;\n",
              "      cursor: pointer;\n",
              "      display: none;\n",
              "      fill: #1967D2;\n",
              "      height: 32px;\n",
              "      padding: 0 0 0 0;\n",
              "      width: 32px;\n",
              "    }\n",
              "\n",
              "    .colab-df-convert:hover {\n",
              "      background-color: #E2EBFA;\n",
              "      box-shadow: 0px 1px 2px rgba(60, 64, 67, 0.3), 0px 1px 3px 1px rgba(60, 64, 67, 0.15);\n",
              "      fill: #174EA6;\n",
              "    }\n",
              "\n",
              "    [theme=dark] .colab-df-convert {\n",
              "      background-color: #3B4455;\n",
              "      fill: #D2E3FC;\n",
              "    }\n",
              "\n",
              "    [theme=dark] .colab-df-convert:hover {\n",
              "      background-color: #434B5C;\n",
              "      box-shadow: 0px 1px 3px 1px rgba(0, 0, 0, 0.15);\n",
              "      filter: drop-shadow(0px 1px 2px rgba(0, 0, 0, 0.3));\n",
              "      fill: #FFFFFF;\n",
              "    }\n",
              "  </style>\n",
              "\n",
              "      <script>\n",
              "        const buttonEl =\n",
              "          document.querySelector('#df-2c3552fb-d546-4f9f-b812-438f1c65b6f9 button.colab-df-convert');\n",
              "        buttonEl.style.display =\n",
              "          google.colab.kernel.accessAllowed ? 'block' : 'none';\n",
              "\n",
              "        async function convertToInteractive(key) {\n",
              "          const element = document.querySelector('#df-2c3552fb-d546-4f9f-b812-438f1c65b6f9');\n",
              "          const dataTable =\n",
              "            await google.colab.kernel.invokeFunction('convertToInteractive',\n",
              "                                                     [key], {});\n",
              "          if (!dataTable) return;\n",
              "\n",
              "          const docLinkHtml = 'Like what you see? Visit the ' +\n",
              "            '<a target=\"_blank\" href=https://colab.research.google.com/notebooks/data_table.ipynb>data table notebook</a>'\n",
              "            + ' to learn more about interactive tables.';\n",
              "          element.innerHTML = '';\n",
              "          dataTable['output_type'] = 'display_data';\n",
              "          await google.colab.output.renderOutput(dataTable, element);\n",
              "          const docLink = document.createElement('div');\n",
              "          docLink.innerHTML = docLinkHtml;\n",
              "          element.appendChild(docLink);\n",
              "        }\n",
              "      </script>\n",
              "    </div>\n",
              "  </div>\n",
              "  "
            ]
          },
          "metadata": {},
          "execution_count": 2
        }
      ]
    },
    {
      "cell_type": "code",
      "source": [
        "df.columns"
      ],
      "metadata": {
        "colab": {
          "base_uri": "https://localhost:8080/"
        },
        "id": "IY7UR4lNLrha",
        "outputId": "0ec53f16-d409-4d31-b6c5-13221b848d25"
      },
      "execution_count": 3,
      "outputs": [
        {
          "output_type": "execute_result",
          "data": {
            "text/plain": [
              "Index(['Unnamed: 0', '건물면적(㎡)', '층', '위도', '경도', '세대수', '최고층', '용적률', '건폐율',\n",
              "       'min_dist_IC', 'min_dist_bus', 'min_dist_hos',\n",
              "       '1000_public_transport_count', '500_univ_count', 'min_dist_elementary',\n",
              "       '세대 당 주차대수', 'min_dist_mart', '1000_starbucks_count',\n",
              "       'min_dist_convenience', '서울시인구_동별_계', '총유동인구(서울거주)', '총유동인구(서울비거주)',\n",
              "       '금융기관', 'GDP_Person', 'economic_growth', 'instruction_rate',\n",
              "       'interest_rate', '한국(KOSPI)', 'no_subway', 'yes_subway',\n",
              "       'hyper_yes_subway', '난방_HT001', '현관구조_계단식', 'Major_Builder',\n",
              "       '건축년도_elapsed_days', '물건금액(만원)'],\n",
              "      dtype='object')"
            ]
          },
          "metadata": {},
          "execution_count": 3
        }
      ]
    },
    {
      "cell_type": "code",
      "source": [
        "from sklearn.model_selection import train_test_split\n",
        "x = df[['건물면적(㎡)', '층', '세대수', '최고층', '용적률', '건폐율', '위도', '경도',\n",
        "       'min_dist_IC', 'min_dist_bus', 'min_dist_hos',\n",
        "       '1000_public_transport_count', '500_univ_count', 'min_dist_elementary',\n",
        "       '세대 당 주차대수', 'min_dist_mart', '1000_starbucks_count',\n",
        "       'min_dist_convenience', '서울시인구_동별_계', '총유동인구(서울거주)', '총유동인구(서울비거주)',\n",
        "       '금융기관', 'GDP_Person', 'economic_growth', 'instruction_rate',\n",
        "       'interest_rate', '한국(KOSPI)', 'no_subway', 'yes_subway',\n",
        "       'hyper_yes_subway', '난방_HT001', '현관구조_계단식', 'Major_Builder',\n",
        "       '건축년도_elapsed_days']]\n",
        "y = df['물건금액(만원)']/10000\n",
        "x_train, x_test, y_train, y_test = train_test_split(x, y, train_size=0.8, test_size=0.2, random_state = 1)"
      ],
      "metadata": {
        "id": "x0D6HnllM3-Z"
      },
      "execution_count": 21,
      "outputs": []
    },
    {
      "cell_type": "code",
      "source": [
        "import pandas as pd\n",
        "import statsmodels.api as sm\n",
        "from sklearn import datasets"
      ],
      "metadata": {
        "id": "RuV61ce7N0tB"
      },
      "execution_count": 22,
      "outputs": []
    },
    {
      "cell_type": "code",
      "source": [
        "# 상수항 추가\n",
        "x = sm.add_constant(x)\n",
        "\n",
        "# 다중회귀분석 모델 피팅\n",
        "model = sm.OLS(y, x)\n",
        "results = model.fit()\n",
        "print(results.summary())"
      ],
      "metadata": {
        "colab": {
          "base_uri": "https://localhost:8080/"
        },
        "id": "6KPBZrGJRokO",
        "outputId": "690ee611-027e-4745-b6f5-de2a120bfee4"
      },
      "execution_count": 23,
      "outputs": [
        {
          "output_type": "stream",
          "name": "stdout",
          "text": [
            "                            OLS Regression Results                            \n",
            "==============================================================================\n",
            "Dep. Variable:               물건금액(만원)   R-squared:                       0.654\n",
            "Model:                            OLS   Adj. R-squared:                  0.654\n",
            "Method:                 Least Squares   F-statistic:                 4.454e+04\n",
            "Date:                Thu, 01 Jun 2023   Prob (F-statistic):               0.00\n",
            "Time:                        11:03:09   Log-Likelihood:            -2.0338e+06\n",
            "No. Observations:              800052   AIC:                         4.068e+06\n",
            "Df Residuals:                  800017   BIC:                         4.068e+06\n",
            "Df Model:                          34                                         \n",
            "Covariance Type:            nonrobust                                         \n",
            "===============================================================================================\n",
            "                                  coef    std err          t      P>|t|      [0.025      0.975]\n",
            "-----------------------------------------------------------------------------------------------\n",
            "const                         -75.4351      5.743    -13.134      0.000     -86.692     -64.178\n",
            "건물면적(㎡)                         0.0780      0.000    549.875      0.000       0.078       0.078\n",
            "층                               0.0313      0.001     49.375      0.000       0.030       0.033\n",
            "세대수                          8.447e-05   3.89e-06     21.693      0.000    7.68e-05    9.21e-05\n",
            "최고층                             0.0823      0.001    104.870      0.000       0.081       0.084\n",
            "용적률                            -0.0042   4.21e-05    -99.557      0.000      -0.004      -0.004\n",
            "건폐율                            -0.0024      0.000     -5.465      0.000      -0.003      -0.002\n",
            "위도                            -13.8456      0.086   -161.374      0.000     -14.014     -13.677\n",
            "경도                              4.5419      0.050     90.838      0.000       4.444       4.640\n",
            "min_dist_IC                    -0.0001   1.97e-06    -56.372      0.000      -0.000      -0.000\n",
            "min_dist_bus                    0.0049   5.48e-05     89.495      0.000       0.005       0.005\n",
            "min_dist_hos                    0.0003    4.9e-06     54.347      0.000       0.000       0.000\n",
            "1000_public_transport_count     0.6941      0.010     69.675      0.000       0.675       0.714\n",
            "500_univ_count                 -0.4740      0.014    -34.139      0.000      -0.501      -0.447\n",
            "min_dist_elementary          8.276e-05   2.24e-05      3.697      0.000    3.89e-05       0.000\n",
            "세대 당 주차대수                       0.5837      0.009     63.910      0.000       0.566       0.602\n",
            "min_dist_mart                   0.0003   8.85e-06     32.681      0.000       0.000       0.000\n",
            "1000_starbucks_count            0.1959      0.001    175.607      0.000       0.194       0.198\n",
            "min_dist_convenience            0.0018   3.57e-05     51.101      0.000       0.002       0.002\n",
            "서울시인구_동별_계                  -2.098e-05   4.18e-07    -50.215      0.000   -2.18e-05   -2.02e-05\n",
            "총유동인구(서울거주)                     0.0012   4.21e-05     28.412      0.000       0.001       0.001\n",
            "총유동인구(서울비거주)                    0.0010      0.000      5.213      0.000       0.001       0.001\n",
            "금융기관                           -0.0166      0.001    -33.109      0.000      -0.018      -0.016\n",
            "GDP_Person                      0.0001   1.97e-06     75.765      0.000       0.000       0.000\n",
            "economic_growth                -0.0599      0.003    -20.307      0.000      -0.066      -0.054\n",
            "instruction_rate             3.624e-08   1.65e-10    219.624      0.000    3.59e-08    3.66e-08\n",
            "interest_rate                   1.1890      0.006    184.265      0.000       1.176       1.202\n",
            "한국(KOSPI)                       0.0027   1.56e-05    171.490      0.000       0.003       0.003\n",
            "no_subway                      -0.7426      0.021    -35.265      0.000      -0.784      -0.701\n",
            "yes_subway                      0.0056      0.008      0.733      0.463      -0.009       0.021\n",
            "hyper_yes_subway                0.2441      0.014     17.677      0.000       0.217       0.271\n",
            "난방_HT001                       -1.5907      0.009   -172.128      0.000      -1.609      -1.573\n",
            "현관구조_계단식                        0.0654      0.008      7.767      0.000       0.049       0.082\n",
            "Major_Builder                   0.4620      0.009     50.818      0.000       0.444       0.480\n",
            "건축년도_elapsed_days           -1.494e-05   1.35e-06    -11.063      0.000   -1.76e-05   -1.23e-05\n",
            "==============================================================================\n",
            "Omnibus:                   789324.815   Durbin-Watson:                   0.276\n",
            "Prob(Omnibus):                  0.000   Jarque-Bera (JB):        127366378.764\n",
            "Skew:                           4.449   Prob(JB):                         0.00\n",
            "Kurtosis:                      64.168   Cond. No.                     2.35e+11\n",
            "==============================================================================\n",
            "\n",
            "Notes:\n",
            "[1] Standard Errors assume that the covariance matrix of the errors is correctly specified.\n",
            "[2] The condition number is large, 2.35e+11. This might indicate that there are\n",
            "strong multicollinearity or other numerical problems.\n"
          ]
        }
      ]
    },
    {
      "cell_type": "code",
      "source": [
        "from sklearn.linear_model import LinearRegression\n",
        "import numpy as np\n",
        "reg=LinearRegression()\n",
        "reg.fit(x,y)\n",
        "yp=reg.predict(x)\n",
        "resid=y-yp\n",
        "rss=np.sum(resid**2)\n",
        "MSE=rss/(results.nobs)\n",
        "MSE"
      ],
      "metadata": {
        "colab": {
          "base_uri": "https://localhost:8080/"
        },
        "id": "-jRtTPO1SCbG",
        "outputId": "8f56c944-c1aa-4549-8cbc-c9bca66553cf"
      },
      "execution_count": 24,
      "outputs": [
        {
          "output_type": "execute_result",
          "data": {
            "text/plain": [
              "9.45305331235115"
            ]
          },
          "metadata": {},
          "execution_count": 24
        }
      ]
    },
    {
      "cell_type": "code",
      "source": [
        "MSE=rss/(results.nobs)\n",
        "MSE"
      ],
      "metadata": {
        "colab": {
          "base_uri": "https://localhost:8080/"
        },
        "id": "-NO19r1NxPNE",
        "outputId": "33dcc7bf-898c-4876-c678-a22607a20ab4"
      },
      "execution_count": 54,
      "outputs": [
        {
          "output_type": "execute_result",
          "data": {
            "text/plain": [
              "9.45302968125389"
            ]
          },
          "metadata": {},
          "execution_count": 54
        }
      ]
    },
    {
      "cell_type": "code",
      "source": [
        "yp = pd.DataFrame(yp)"
      ],
      "metadata": {
        "id": "jGiUtDLZSMgp"
      },
      "execution_count": 25,
      "outputs": []
    },
    {
      "cell_type": "code",
      "source": [
        "yp"
      ],
      "metadata": {
        "colab": {
          "base_uri": "https://localhost:8080/",
          "height": 423
        },
        "id": "muSlVweGd4qs",
        "outputId": "9956d4b7-63cf-4b07-8f2b-10baca6dad1a"
      },
      "execution_count": 26,
      "outputs": [
        {
          "output_type": "execute_result",
          "data": {
            "text/plain": [
              "                0\n",
              "0        5.919171\n",
              "1        5.974026\n",
              "2        4.965009\n",
              "3        5.763006\n",
              "4        5.786801\n",
              "...           ...\n",
              "800047  18.294763\n",
              "800048  14.314614\n",
              "800049  14.314614\n",
              "800050  14.314614\n",
              "800051  14.314614\n",
              "\n",
              "[800052 rows x 1 columns]"
            ],
            "text/html": [
              "\n",
              "  <div id=\"df-cdd1e1f8-76d4-497e-8d2d-28a4af320dda\">\n",
              "    <div class=\"colab-df-container\">\n",
              "      <div>\n",
              "<style scoped>\n",
              "    .dataframe tbody tr th:only-of-type {\n",
              "        vertical-align: middle;\n",
              "    }\n",
              "\n",
              "    .dataframe tbody tr th {\n",
              "        vertical-align: top;\n",
              "    }\n",
              "\n",
              "    .dataframe thead th {\n",
              "        text-align: right;\n",
              "    }\n",
              "</style>\n",
              "<table border=\"1\" class=\"dataframe\">\n",
              "  <thead>\n",
              "    <tr style=\"text-align: right;\">\n",
              "      <th></th>\n",
              "      <th>0</th>\n",
              "    </tr>\n",
              "  </thead>\n",
              "  <tbody>\n",
              "    <tr>\n",
              "      <th>0</th>\n",
              "      <td>5.919171</td>\n",
              "    </tr>\n",
              "    <tr>\n",
              "      <th>1</th>\n",
              "      <td>5.974026</td>\n",
              "    </tr>\n",
              "    <tr>\n",
              "      <th>2</th>\n",
              "      <td>4.965009</td>\n",
              "    </tr>\n",
              "    <tr>\n",
              "      <th>3</th>\n",
              "      <td>5.763006</td>\n",
              "    </tr>\n",
              "    <tr>\n",
              "      <th>4</th>\n",
              "      <td>5.786801</td>\n",
              "    </tr>\n",
              "    <tr>\n",
              "      <th>...</th>\n",
              "      <td>...</td>\n",
              "    </tr>\n",
              "    <tr>\n",
              "      <th>800047</th>\n",
              "      <td>18.294763</td>\n",
              "    </tr>\n",
              "    <tr>\n",
              "      <th>800048</th>\n",
              "      <td>14.314614</td>\n",
              "    </tr>\n",
              "    <tr>\n",
              "      <th>800049</th>\n",
              "      <td>14.314614</td>\n",
              "    </tr>\n",
              "    <tr>\n",
              "      <th>800050</th>\n",
              "      <td>14.314614</td>\n",
              "    </tr>\n",
              "    <tr>\n",
              "      <th>800051</th>\n",
              "      <td>14.314614</td>\n",
              "    </tr>\n",
              "  </tbody>\n",
              "</table>\n",
              "<p>800052 rows × 1 columns</p>\n",
              "</div>\n",
              "      <button class=\"colab-df-convert\" onclick=\"convertToInteractive('df-cdd1e1f8-76d4-497e-8d2d-28a4af320dda')\"\n",
              "              title=\"Convert this dataframe to an interactive table.\"\n",
              "              style=\"display:none;\">\n",
              "        \n",
              "  <svg xmlns=\"http://www.w3.org/2000/svg\" height=\"24px\"viewBox=\"0 0 24 24\"\n",
              "       width=\"24px\">\n",
              "    <path d=\"M0 0h24v24H0V0z\" fill=\"none\"/>\n",
              "    <path d=\"M18.56 5.44l.94 2.06.94-2.06 2.06-.94-2.06-.94-.94-2.06-.94 2.06-2.06.94zm-11 1L8.5 8.5l.94-2.06 2.06-.94-2.06-.94L8.5 2.5l-.94 2.06-2.06.94zm10 10l.94 2.06.94-2.06 2.06-.94-2.06-.94-.94-2.06-.94 2.06-2.06.94z\"/><path d=\"M17.41 7.96l-1.37-1.37c-.4-.4-.92-.59-1.43-.59-.52 0-1.04.2-1.43.59L10.3 9.45l-7.72 7.72c-.78.78-.78 2.05 0 2.83L4 21.41c.39.39.9.59 1.41.59.51 0 1.02-.2 1.41-.59l7.78-7.78 2.81-2.81c.8-.78.8-2.07 0-2.86zM5.41 20L4 18.59l7.72-7.72 1.47 1.35L5.41 20z\"/>\n",
              "  </svg>\n",
              "      </button>\n",
              "      \n",
              "  <style>\n",
              "    .colab-df-container {\n",
              "      display:flex;\n",
              "      flex-wrap:wrap;\n",
              "      gap: 12px;\n",
              "    }\n",
              "\n",
              "    .colab-df-convert {\n",
              "      background-color: #E8F0FE;\n",
              "      border: none;\n",
              "      border-radius: 50%;\n",
              "      cursor: pointer;\n",
              "      display: none;\n",
              "      fill: #1967D2;\n",
              "      height: 32px;\n",
              "      padding: 0 0 0 0;\n",
              "      width: 32px;\n",
              "    }\n",
              "\n",
              "    .colab-df-convert:hover {\n",
              "      background-color: #E2EBFA;\n",
              "      box-shadow: 0px 1px 2px rgba(60, 64, 67, 0.3), 0px 1px 3px 1px rgba(60, 64, 67, 0.15);\n",
              "      fill: #174EA6;\n",
              "    }\n",
              "\n",
              "    [theme=dark] .colab-df-convert {\n",
              "      background-color: #3B4455;\n",
              "      fill: #D2E3FC;\n",
              "    }\n",
              "\n",
              "    [theme=dark] .colab-df-convert:hover {\n",
              "      background-color: #434B5C;\n",
              "      box-shadow: 0px 1px 3px 1px rgba(0, 0, 0, 0.15);\n",
              "      filter: drop-shadow(0px 1px 2px rgba(0, 0, 0, 0.3));\n",
              "      fill: #FFFFFF;\n",
              "    }\n",
              "  </style>\n",
              "\n",
              "      <script>\n",
              "        const buttonEl =\n",
              "          document.querySelector('#df-cdd1e1f8-76d4-497e-8d2d-28a4af320dda button.colab-df-convert');\n",
              "        buttonEl.style.display =\n",
              "          google.colab.kernel.accessAllowed ? 'block' : 'none';\n",
              "\n",
              "        async function convertToInteractive(key) {\n",
              "          const element = document.querySelector('#df-cdd1e1f8-76d4-497e-8d2d-28a4af320dda');\n",
              "          const dataTable =\n",
              "            await google.colab.kernel.invokeFunction('convertToInteractive',\n",
              "                                                     [key], {});\n",
              "          if (!dataTable) return;\n",
              "\n",
              "          const docLinkHtml = 'Like what you see? Visit the ' +\n",
              "            '<a target=\"_blank\" href=https://colab.research.google.com/notebooks/data_table.ipynb>data table notebook</a>'\n",
              "            + ' to learn more about interactive tables.';\n",
              "          element.innerHTML = '';\n",
              "          dataTable['output_type'] = 'display_data';\n",
              "          await google.colab.output.renderOutput(dataTable, element);\n",
              "          const docLink = document.createElement('div');\n",
              "          docLink.innerHTML = docLinkHtml;\n",
              "          element.appendChild(docLink);\n",
              "        }\n",
              "      </script>\n",
              "    </div>\n",
              "  </div>\n",
              "  "
            ]
          },
          "metadata": {},
          "execution_count": 26
        }
      ]
    },
    {
      "cell_type": "code",
      "source": [
        "yp.to_csv('결과.csv', encoding = 'utf-8-sig')"
      ],
      "metadata": {
        "id": "Fo1JX_Jy6J5N"
      },
      "execution_count": 27,
      "outputs": []
    },
    {
      "cell_type": "code",
      "source": [
        "np.sum(resid**2)/(results.nobs-2)"
      ],
      "metadata": {
        "colab": {
          "base_uri": "https://localhost:8080/"
        },
        "id": "EpfVn8Us1Yr-",
        "outputId": "31f6cf2b-2c4f-4fca-8e7c-52dcd71ad59a"
      },
      "execution_count": 143,
      "outputs": [
        {
          "output_type": "execute_result",
          "data": {
            "text/plain": [
              "9.767077404445203"
            ]
          },
          "metadata": {},
          "execution_count": 143
        }
      ]
    },
    {
      "cell_type": "code",
      "source": [
        "# 라이브러리 불러오기\n",
        "import numpy as np\n",
        "import pandas as pd\n",
        "from sklearn.ensemble import RandomForestClassifier\n",
        "from sklearn.datasets import make_classification\n",
        "from sklearn.model_selection import GridSearchCV\n",
        "from sklearn.model_selection import train_test_split"
      ],
      "metadata": {
        "id": "Jrp44UH3VUn0"
      },
      "execution_count": 28,
      "outputs": []
    },
    {
      "cell_type": "code",
      "source": [
        "# 브라우저에서 바로 그려지도록 \n",
        "import matplotlib.pyplot as plt\n",
        "import matplotlib as mpl\n",
        "%matplotlib inline\n",
        "\n",
        "# 그래프에 retina display 적용\n",
        "%config InlineBackend.figure_format = 'retina'\n",
        "\n",
        "# Colab 의 한글 폰트 설정\n",
        "plt.rc('font', family='NanumBarunGothic') \n",
        "\n",
        "# 유니코드에서  음수 부호설정\n",
        "mpl.rc('axes', unicode_minus=False)"
      ],
      "metadata": {
        "id": "Sr8cReogVUkP"
      },
      "execution_count": 29,
      "outputs": []
    },
    {
      "cell_type": "code",
      "source": [
        "from sklearn.model_selection import train_test_split\n",
        "x = x[['건물면적(㎡)', '층', '세대수', '위도', '경도', '최고층', '용적률', '건폐율',\n",
        "       'min_dist_IC', 'min_dist_bus', 'min_dist_hos',\n",
        "       '1000_public_transport_count', '500_univ_count', 'min_dist_elementary',\n",
        "       '세대 당 주차대수', 'min_dist_mart', '1000_starbucks_count',\n",
        "       'min_dist_convenience', '서울시인구_동별_계', '총유동인구(서울거주)', \n",
        "       '금융기관', 'GDP_Person', 'economic_growth', 'instruction_rate',\n",
        "       'interest_rate', '한국(KOSPI)', 'no_subway', \n",
        "       'hyper_yes_subway', '난방_HT001', '현관구조_계단식', 'Major_Builder',\n",
        "       '건축년도_elapsed_days']]\n",
        "y = df['물건금액(만원)']/10000\n",
        "x_train, x_test, y_train, y_test = train_test_split(x, y, train_size=0.8, test_size=0.2, random_state = 1)"
      ],
      "metadata": {
        "id": "yFw5WU6OWHCq"
      },
      "execution_count": 30,
      "outputs": []
    },
    {
      "cell_type": "code",
      "source": [
        "x = x.astype('float32')"
      ],
      "metadata": {
        "id": "csY-JYR1WkUq"
      },
      "execution_count": 31,
      "outputs": []
    },
    {
      "cell_type": "code",
      "source": [
        "y = y.astype('float32')"
      ],
      "metadata": {
        "id": "ioA1rPg4Wshw"
      },
      "execution_count": 32,
      "outputs": []
    },
    {
      "cell_type": "code",
      "source": [
        "X_train, X_test, y_train, y_test = train_test_split(x, y, test_size=0.2, random_state = 1)\n",
        "print(X_train.shape, y_train.shape, X_test.shape, y_test.shape)"
      ],
      "metadata": {
        "colab": {
          "base_uri": "https://localhost:8080/"
        },
        "id": "INNpjFO4VUhN",
        "outputId": "cd751454-7f6d-448b-b3ff-d01deb9b8964"
      },
      "execution_count": 33,
      "outputs": [
        {
          "output_type": "stream",
          "name": "stdout",
          "text": [
            "(640041, 32) (640041,) (160011, 32) (160011,)\n"
          ]
        }
      ]
    },
    {
      "cell_type": "code",
      "source": [
        "from sklearn.ensemble import RandomForestRegressor\n",
        "from sklearn.metrics import mean_squared_error\n",
        "model = RandomForestRegressor(n_estimators = 100, max_depth = 11, max_features = 'log2')\n",
        "model.fit(X_train, y_train)\n",
        "some_predicted = model.predict(x_test)\n",
        "mse = mean_squared_error(some_predicted, y_test)\n",
        "print('평균제곱근오차', mse)"
      ],
      "metadata": {
        "id": "ZtgBf2lnxepm",
        "colab": {
          "base_uri": "https://localhost:8080/"
        },
        "outputId": "aa428acc-4dd1-4f49-ae70-a0301ad3253d"
      },
      "execution_count": 34,
      "outputs": [
        {
          "output_type": "stream",
          "name": "stdout",
          "text": [
            "평균제곱근오차 1.7106397500488855\n"
          ]
        }
      ]
    },
    {
      "cell_type": "code",
      "source": [
        "y_test"
      ],
      "metadata": {
        "id": "Gf7Oiw9jIy2M",
        "colab": {
          "base_uri": "https://localhost:8080/"
        },
        "outputId": "6580bf2b-903e-4ffd-807f-6dd5e72d4fa6"
      },
      "execution_count": 35,
      "outputs": [
        {
          "output_type": "execute_result",
          "data": {
            "text/plain": [
              "247480    3.450\n",
              "775577    2.300\n",
              "679462    4.270\n",
              "110064    2.700\n",
              "339982    4.365\n",
              "          ...  \n",
              "344944    5.600\n",
              "155460    3.270\n",
              "301516    2.450\n",
              "697371    5.350\n",
              "223746    6.500\n",
              "Name: 물건금액(만원), Length: 160011, dtype: float32"
            ]
          },
          "metadata": {},
          "execution_count": 35
        }
      ]
    },
    {
      "cell_type": "code",
      "source": [
        "some_predicted"
      ],
      "metadata": {
        "id": "prJzRu0vIy0U",
        "colab": {
          "base_uri": "https://localhost:8080/"
        },
        "outputId": "221b2153-c151-4754-f983-d3ce1790b842"
      },
      "execution_count": 36,
      "outputs": [
        {
          "output_type": "execute_result",
          "data": {
            "text/plain": [
              "array([3.59362163, 2.32866941, 5.57321772, ..., 2.38321506, 5.74999536,\n",
              "       5.05404793])"
            ]
          },
          "metadata": {},
          "execution_count": 36
        }
      ]
    },
    {
      "cell_type": "code",
      "source": [
        "y_test_result = pd.DataFrame(y_test)"
      ],
      "metadata": {
        "id": "kSRLBg3xIyqd"
      },
      "execution_count": 37,
      "outputs": []
    },
    {
      "cell_type": "code",
      "source": [
        "y_test_result['예측금액'] = some_predicted"
      ],
      "metadata": {
        "id": "wFVOwt9ZUJnF"
      },
      "execution_count": 38,
      "outputs": []
    },
    {
      "cell_type": "code",
      "source": [
        "y_test_result.to_csv('랜덤포레스트회귀(100,11)_전처리.csv', encoding = 'utf-8-sig')"
      ],
      "metadata": {
        "id": "no_Su_znULC2"
      },
      "execution_count": 39,
      "outputs": []
    },
    {
      "cell_type": "code",
      "source": [
        "y_test_result"
      ],
      "metadata": {
        "colab": {
          "base_uri": "https://localhost:8080/",
          "height": 423
        },
        "id": "nXzUOgapWl3B",
        "outputId": "aad641b5-f832-45b7-ee01-5a0919d19ccc"
      },
      "execution_count": 40,
      "outputs": [
        {
          "output_type": "execute_result",
          "data": {
            "text/plain": [
              "        물건금액(만원)      예측금액\n",
              "247480     3.450  3.593622\n",
              "775577     2.300  2.328669\n",
              "679462     4.270  5.573218\n",
              "110064     2.700  2.536000\n",
              "339982     4.365  4.562200\n",
              "...          ...       ...\n",
              "344944     5.600  3.593622\n",
              "155460     3.270  5.013389\n",
              "301516     2.450  2.383215\n",
              "697371     5.350  5.749995\n",
              "223746     6.500  5.054048\n",
              "\n",
              "[160011 rows x 2 columns]"
            ],
            "text/html": [
              "\n",
              "  <div id=\"df-139fc2bd-2264-4e25-8aab-8881a41bb241\">\n",
              "    <div class=\"colab-df-container\">\n",
              "      <div>\n",
              "<style scoped>\n",
              "    .dataframe tbody tr th:only-of-type {\n",
              "        vertical-align: middle;\n",
              "    }\n",
              "\n",
              "    .dataframe tbody tr th {\n",
              "        vertical-align: top;\n",
              "    }\n",
              "\n",
              "    .dataframe thead th {\n",
              "        text-align: right;\n",
              "    }\n",
              "</style>\n",
              "<table border=\"1\" class=\"dataframe\">\n",
              "  <thead>\n",
              "    <tr style=\"text-align: right;\">\n",
              "      <th></th>\n",
              "      <th>물건금액(만원)</th>\n",
              "      <th>예측금액</th>\n",
              "    </tr>\n",
              "  </thead>\n",
              "  <tbody>\n",
              "    <tr>\n",
              "      <th>247480</th>\n",
              "      <td>3.450</td>\n",
              "      <td>3.593622</td>\n",
              "    </tr>\n",
              "    <tr>\n",
              "      <th>775577</th>\n",
              "      <td>2.300</td>\n",
              "      <td>2.328669</td>\n",
              "    </tr>\n",
              "    <tr>\n",
              "      <th>679462</th>\n",
              "      <td>4.270</td>\n",
              "      <td>5.573218</td>\n",
              "    </tr>\n",
              "    <tr>\n",
              "      <th>110064</th>\n",
              "      <td>2.700</td>\n",
              "      <td>2.536000</td>\n",
              "    </tr>\n",
              "    <tr>\n",
              "      <th>339982</th>\n",
              "      <td>4.365</td>\n",
              "      <td>4.562200</td>\n",
              "    </tr>\n",
              "    <tr>\n",
              "      <th>...</th>\n",
              "      <td>...</td>\n",
              "      <td>...</td>\n",
              "    </tr>\n",
              "    <tr>\n",
              "      <th>344944</th>\n",
              "      <td>5.600</td>\n",
              "      <td>3.593622</td>\n",
              "    </tr>\n",
              "    <tr>\n",
              "      <th>155460</th>\n",
              "      <td>3.270</td>\n",
              "      <td>5.013389</td>\n",
              "    </tr>\n",
              "    <tr>\n",
              "      <th>301516</th>\n",
              "      <td>2.450</td>\n",
              "      <td>2.383215</td>\n",
              "    </tr>\n",
              "    <tr>\n",
              "      <th>697371</th>\n",
              "      <td>5.350</td>\n",
              "      <td>5.749995</td>\n",
              "    </tr>\n",
              "    <tr>\n",
              "      <th>223746</th>\n",
              "      <td>6.500</td>\n",
              "      <td>5.054048</td>\n",
              "    </tr>\n",
              "  </tbody>\n",
              "</table>\n",
              "<p>160011 rows × 2 columns</p>\n",
              "</div>\n",
              "      <button class=\"colab-df-convert\" onclick=\"convertToInteractive('df-139fc2bd-2264-4e25-8aab-8881a41bb241')\"\n",
              "              title=\"Convert this dataframe to an interactive table.\"\n",
              "              style=\"display:none;\">\n",
              "        \n",
              "  <svg xmlns=\"http://www.w3.org/2000/svg\" height=\"24px\"viewBox=\"0 0 24 24\"\n",
              "       width=\"24px\">\n",
              "    <path d=\"M0 0h24v24H0V0z\" fill=\"none\"/>\n",
              "    <path d=\"M18.56 5.44l.94 2.06.94-2.06 2.06-.94-2.06-.94-.94-2.06-.94 2.06-2.06.94zm-11 1L8.5 8.5l.94-2.06 2.06-.94-2.06-.94L8.5 2.5l-.94 2.06-2.06.94zm10 10l.94 2.06.94-2.06 2.06-.94-2.06-.94-.94-2.06-.94 2.06-2.06.94z\"/><path d=\"M17.41 7.96l-1.37-1.37c-.4-.4-.92-.59-1.43-.59-.52 0-1.04.2-1.43.59L10.3 9.45l-7.72 7.72c-.78.78-.78 2.05 0 2.83L4 21.41c.39.39.9.59 1.41.59.51 0 1.02-.2 1.41-.59l7.78-7.78 2.81-2.81c.8-.78.8-2.07 0-2.86zM5.41 20L4 18.59l7.72-7.72 1.47 1.35L5.41 20z\"/>\n",
              "  </svg>\n",
              "      </button>\n",
              "      \n",
              "  <style>\n",
              "    .colab-df-container {\n",
              "      display:flex;\n",
              "      flex-wrap:wrap;\n",
              "      gap: 12px;\n",
              "    }\n",
              "\n",
              "    .colab-df-convert {\n",
              "      background-color: #E8F0FE;\n",
              "      border: none;\n",
              "      border-radius: 50%;\n",
              "      cursor: pointer;\n",
              "      display: none;\n",
              "      fill: #1967D2;\n",
              "      height: 32px;\n",
              "      padding: 0 0 0 0;\n",
              "      width: 32px;\n",
              "    }\n",
              "\n",
              "    .colab-df-convert:hover {\n",
              "      background-color: #E2EBFA;\n",
              "      box-shadow: 0px 1px 2px rgba(60, 64, 67, 0.3), 0px 1px 3px 1px rgba(60, 64, 67, 0.15);\n",
              "      fill: #174EA6;\n",
              "    }\n",
              "\n",
              "    [theme=dark] .colab-df-convert {\n",
              "      background-color: #3B4455;\n",
              "      fill: #D2E3FC;\n",
              "    }\n",
              "\n",
              "    [theme=dark] .colab-df-convert:hover {\n",
              "      background-color: #434B5C;\n",
              "      box-shadow: 0px 1px 3px 1px rgba(0, 0, 0, 0.15);\n",
              "      filter: drop-shadow(0px 1px 2px rgba(0, 0, 0, 0.3));\n",
              "      fill: #FFFFFF;\n",
              "    }\n",
              "  </style>\n",
              "\n",
              "      <script>\n",
              "        const buttonEl =\n",
              "          document.querySelector('#df-139fc2bd-2264-4e25-8aab-8881a41bb241 button.colab-df-convert');\n",
              "        buttonEl.style.display =\n",
              "          google.colab.kernel.accessAllowed ? 'block' : 'none';\n",
              "\n",
              "        async function convertToInteractive(key) {\n",
              "          const element = document.querySelector('#df-139fc2bd-2264-4e25-8aab-8881a41bb241');\n",
              "          const dataTable =\n",
              "            await google.colab.kernel.invokeFunction('convertToInteractive',\n",
              "                                                     [key], {});\n",
              "          if (!dataTable) return;\n",
              "\n",
              "          const docLinkHtml = 'Like what you see? Visit the ' +\n",
              "            '<a target=\"_blank\" href=https://colab.research.google.com/notebooks/data_table.ipynb>data table notebook</a>'\n",
              "            + ' to learn more about interactive tables.';\n",
              "          element.innerHTML = '';\n",
              "          dataTable['output_type'] = 'display_data';\n",
              "          await google.colab.output.renderOutput(dataTable, element);\n",
              "          const docLink = document.createElement('div');\n",
              "          docLink.innerHTML = docLinkHtml;\n",
              "          element.appendChild(docLink);\n",
              "        }\n",
              "      </script>\n",
              "    </div>\n",
              "  </div>\n",
              "  "
            ]
          },
          "metadata": {},
          "execution_count": 40
        }
      ]
    },
    {
      "cell_type": "code",
      "source": [],
      "metadata": {
        "id": "ikP2PvF7XlA9"
      },
      "execution_count": null,
      "outputs": []
    },
    {
      "cell_type": "code",
      "source": [
        "from sklearn.model_selection import train_test_split\n",
        "x = x[['건물면적(㎡)', '층', '세대수', '위도', '경도', '최고층', '용적률', '건폐율',\n",
        "       'min_dist_IC', 'min_dist_bus', 'min_dist_hos',\n",
        "       '1000_public_transport_count', '500_univ_count', 'min_dist_elementary',\n",
        "       '세대 당 주차대수', 'min_dist_mart', '1000_starbucks_count',\n",
        "       'min_dist_convenience', '서울시인구_동별_계', '총유동인구(서울거주)', \n",
        "       '금융기관', 'GDP_Person', 'economic_growth', 'instruction_rate',\n",
        "       'interest_rate', '한국(KOSPI)', 'no_subway', \n",
        "       'hyper_yes_subway', '난방_HT001', '현관구조_계단식', 'Major_Builder',\n",
        "       '건축년도_elapsed_days']]\n",
        "y = df['물건금액(만원)']/10000\n",
        "x_train, x_test, y_train, y_test = train_test_split(x, y, train_size=0.8, test_size=0.2, random_state = 1)"
      ],
      "metadata": {
        "id": "COXlHGtRuh6L"
      },
      "execution_count": 41,
      "outputs": []
    },
    {
      "cell_type": "code",
      "source": [
        "x = x.astype('float32')"
      ],
      "metadata": {
        "id": "-l4kU7eHuh6M"
      },
      "execution_count": 42,
      "outputs": []
    },
    {
      "cell_type": "code",
      "source": [
        "y = y.astype('float32')"
      ],
      "metadata": {
        "id": "ANYMaN-Zuh6M"
      },
      "execution_count": 43,
      "outputs": []
    },
    {
      "cell_type": "code",
      "source": [
        "X_train, X_test, y_train, y_test = train_test_split(x, y, test_size=0.2, random_state = 1)\n",
        "print(X_train.shape, y_train.shape, X_test.shape, y_test.shape)"
      ],
      "metadata": {
        "colab": {
          "base_uri": "https://localhost:8080/"
        },
        "outputId": "e99298bb-e080-4cc9-ddd6-24e334e7fb61",
        "id": "fT6F8H4duh6M"
      },
      "execution_count": 44,
      "outputs": [
        {
          "output_type": "stream",
          "name": "stdout",
          "text": [
            "(640041, 32) (640041,) (160011, 32) (160011,)\n"
          ]
        }
      ]
    },
    {
      "cell_type": "code",
      "source": [
        "from sklearn.ensemble import RandomForestRegressor\n",
        "from sklearn.metrics import mean_squared_error\n",
        "model = RandomForestRegressor(n_estimators = 100, max_depth = 11, max_features = 'log2')\n",
        "model.fit(X_train, y_train)\n",
        "some_predicted = model.predict(x_test)\n",
        "mse = mean_squared_error(some_predicted, y_test)\n",
        "print('평균제곱근오차', mse)"
      ],
      "metadata": {
        "colab": {
          "base_uri": "https://localhost:8080/"
        },
        "outputId": "a1888ced-df09-402a-f353-0db0ad2afa59",
        "id": "APnz9Clquh6M"
      },
      "execution_count": 45,
      "outputs": [
        {
          "output_type": "stream",
          "name": "stdout",
          "text": [
            "평균제곱근오차 1.9344054185610227\n"
          ]
        }
      ]
    },
    {
      "cell_type": "code",
      "source": [
        "y_test"
      ],
      "metadata": {
        "colab": {
          "base_uri": "https://localhost:8080/"
        },
        "outputId": "30f247b2-3180-40ea-c0d3-a077d6b71437",
        "id": "rt77O8dvuh6N"
      },
      "execution_count": 46,
      "outputs": [
        {
          "output_type": "execute_result",
          "data": {
            "text/plain": [
              "247480    3.450\n",
              "775577    2.300\n",
              "679462    4.270\n",
              "110064    2.700\n",
              "339982    4.365\n",
              "          ...  \n",
              "344944    5.600\n",
              "155460    3.270\n",
              "301516    2.450\n",
              "697371    5.350\n",
              "223746    6.500\n",
              "Name: 물건금액(만원), Length: 160011, dtype: float32"
            ]
          },
          "metadata": {},
          "execution_count": 46
        }
      ]
    },
    {
      "cell_type": "code",
      "source": [
        "some_predicted"
      ],
      "metadata": {
        "colab": {
          "base_uri": "https://localhost:8080/"
        },
        "outputId": "7a152a2d-065f-438d-9e27-5d16fb4ec73a",
        "id": "yT69SWYduh6N"
      },
      "execution_count": 47,
      "outputs": [
        {
          "output_type": "execute_result",
          "data": {
            "text/plain": [
              "array([3.51008225, 3.54450974, 6.08727153, ..., 2.56896949, 6.29520242,\n",
              "       4.95732294])"
            ]
          },
          "metadata": {},
          "execution_count": 47
        }
      ]
    },
    {
      "cell_type": "code",
      "source": [
        "y_test_result = pd.DataFrame(y_test)"
      ],
      "metadata": {
        "id": "xIn0jADbuh6O"
      },
      "execution_count": 48,
      "outputs": []
    },
    {
      "cell_type": "code",
      "source": [
        "y_test_result['예측금액'] = some_predicted"
      ],
      "metadata": {
        "id": "Iu4ghXZduh6O"
      },
      "execution_count": 49,
      "outputs": []
    },
    {
      "cell_type": "code",
      "source": [
        "y_test_result.to_csv('랜덤포레스트회귀(100,11,log2)_전처리.csv', encoding = 'utf-8-sig')"
      ],
      "metadata": {
        "id": "S7SRZsSkuh6O"
      },
      "execution_count": 51,
      "outputs": []
    },
    {
      "cell_type": "code",
      "source": [
        "np.sqrt(mse)"
      ],
      "metadata": {
        "colab": {
          "base_uri": "https://localhost:8080/"
        },
        "id": "XI4kgII3vbUF",
        "outputId": "fa58a365-72cc-4bf2-cf51-33c32bf121ed"
      },
      "execution_count": 53,
      "outputs": [
        {
          "output_type": "execute_result",
          "data": {
            "text/plain": [
              "1.3908290400193055"
            ]
          },
          "metadata": {},
          "execution_count": 53
        }
      ]
    },
    {
      "cell_type": "code",
      "source": [],
      "metadata": {
        "id": "Hna0J5vjw3CJ"
      },
      "execution_count": null,
      "outputs": []
    }
  ]
}